{
  "nbformat": 4,
  "nbformat_minor": 0,
  "metadata": {
    "colab": {
      "provenance": []
    },
    "kernelspec": {
      "name": "python3",
      "display_name": "Python 3"
    },
    "language_info": {
      "name": "python"
    }
  },
  "cells": [
    {
      "cell_type": "markdown",
      "source": [
        "**DATA TYPES AND STRUCTURES**"
      ],
      "metadata": {
        "id": "Lb-g_ibHd28F"
      }
    },
    {
      "cell_type": "markdown",
      "source": [
        "Q.1 - What are data structures, and why are they important ?\n",
        "ans - What Are Data Structures?\n",
        "Data structures are specialized formats for organizing, processing, and storing data in a computer so it can be used efficiently. They define the relationship between the data and the operations that can be performed on it.\n",
        "\n",
        "Q.2 -  Explain the difference between mutable and immutable data types with examples.\n",
        "ans - mutables data types are change after the creation and immutable data types can't be change after creation.\n",
        "\n",
        "Q.3 - What are the main differences between lists and tuples in Python?\n",
        "\n",
        "ans - lists are mutable,list are represent with square bracket[ ],slower due to mutability.\n",
        "\n",
        "tuples are immutable, tuples are represent with parenthisis( ),faster due to immutability\n",
        "\n",
        "Q.4 - Describe how dictionaries store data.\n",
        "\n",
        "ans- Dictionaries in Python store data as key-value pairs using a highly efficient structure called a hash table.\n",
        "\n",
        "Q.5 - Why might you use a set instead of a list in Python?\n",
        "\n",
        "ans - A set is an unordered collection of unique elements, and it offers several advantages over lists in specific situations.\n",
        "\n",
        "Q.6 - What is a string in Python, and how is it different from a list.\n",
        "\n",
        "ans - A string in Python is a sequence of characters enclosed in single ('), double (\"), or triple quotes (''' or \"\"\").\n",
        "\n",
        "Q.7 - How do tuples ensure data integrity in Python.\n",
        "\n",
        "ans - Tuples help ensure data integrity by being immutable, meaning their contents cannot be changed after creation. This makes them ideal for storing data that should remain constant throughout a program.\n",
        "\n",
        "Q.8 - What is a hash table, and how does it relate to dictionaries in Python.\n",
        "\n",
        "ans- A hash table is a data structure that stores data in key-value pairs and uses a hashing function to compute an index into an array where the value will be stored or retrieved.\n",
        "\n",
        "Q.9 - Can lists contain different data types in Python.\n",
        "\n",
        "ans. Python lists are heterogeneous, meaning they can store elements of various data types in a single list.\n",
        "\n",
        "Q.10 - Explain why strings are immutable in Python\n",
        "\n",
        "ans - Strings are immutable in Python because once a string is created, its contents cannot be changed. This design choice brings several important benefits in terms of performance, security, and reliability.\n",
        "\n",
        "Q.11 - What advantages do dictionaries offer over lists for certain tasks.\n",
        "\n",
        "ans -Dictionaries and lists are both useful, but dictionaries are better for specific tasks due to their key-based structure and faster access times.\n",
        "\n",
        "Q.12-  Describe a scenario where using a tuple would be preferable over a list.\n",
        "\n",
        "ans- A tuple is an immutable, ordered collection of elements in Python used to store fixed sets of related data.\n",
        "\n",
        "Q.13 - How do sets handle duplicate values in Python.\n",
        "\n",
        "ans - Sets automatically remove duplicate values.\n",
        "When you add duplicate elements to a set, only one copy is kept.\n",
        "\n",
        "Q.14 - How does the “in” keyword work differently for lists and dictionaries.\n",
        "\n",
        "ans - The in keyword checks for values in lists but checks for keys in dictionaries.\n",
        "\n",
        "Q.15 - Can you modify the elements of a tuple? Explain why or why not.\n",
        "\n",
        "ans - No, you cannot modify the elements of a tuple because tuples are immutable in Python.\n",
        "\n",
        "Q.16 - What is a nested dictionary, and give an example of its use case\n",
        "\n",
        "ans - A nested dictionary is a dictionary inside another dictionary. It allows you to represent hierarchical or structured data in a clean and organized way.\n",
        "use case = Storing Student Records\n",
        "\n",
        "Q.17 -  Describe the time complexity of accessing elements in a dictionary.\n",
        "\n",
        "ans - Accessing elements in a dictionary in Python has the following time complexity:\n",
        "\n",
        "Average case and worst case\n",
        "\n",
        "Q.18 - In what situations are lists preferred over dictionaries.\n",
        "\n",
        "ans- When Order Matters,When Data Has No Key-Value Relationship,When Iteration in Order Is Required,When Memory Efficiency Is Important,When Access by Position Is Needed\n",
        "\n",
        "Q.19 - Why are dictionaries considered unordered, and how does that affect data retrieval\n",
        "\n",
        "ans - 1. Dictionaries are considered unordered because they are designed for key-based access rather than positional access. Traditionally, they did not guarantee the order of elements, and their internal structure is based on hash tables, which store items according to the hash value of their keys, not their insertion order.\n",
        "\n",
        "2. Since dictionaries are unordered, elements cannot be accessed by index or position. Retrieval is done using keys only, and the order of elements is not reliable for operations like iteration or display in versions prior to Python 3.7.\n",
        "\n",
        "Q.20 -  Explain the difference between a list and a dictionary in terms of data retrieval.\n",
        "\n",
        "ans - List:\n",
        "A list retrieves data by index. Each element in a list is accessed using its position in the sequence.\n",
        "\n",
        "Example: my_list[0] returns the first item.\n",
        "\n",
        "Retrieval is position-based.\n",
        "\n",
        "Dictionary:\n",
        "A dictionary retrieves data by key. Each value is associated with a unique key, and access is done using this key, not position.\n",
        "\n",
        "Example: my_dict[\"name\"] returns the value for the key \"name\".\n",
        "\n",
        "Retrieval is key-based.\n",
        "\n",
        "\n",
        "\n",
        "\n",
        "\n",
        "\n",
        "\n",
        "\n",
        "\n",
        "\n",
        "\n",
        "\n",
        "\n",
        "\n",
        "\n",
        "\n",
        "\n",
        "\n",
        "\n",
        "\n",
        "\n",
        "\n",
        "\n",
        "\n",
        "\n",
        "\n",
        "\n"
      ],
      "metadata": {
        "id": "wJNRo16pRLYo"
      }
    },
    {
      "cell_type": "code",
      "source": [],
      "metadata": {
        "id": "3ExYN3_OqW5L"
      },
      "execution_count": null,
      "outputs": []
    },
    {
      "cell_type": "markdown",
      "source": [
        "**PRACTICAL QUESTIONS**"
      ],
      "metadata": {
        "id": "XB6teTzRqYu4"
      }
    },
    {
      "cell_type": "code",
      "source": [
        "# Q.1 - Write a code to create a string with your name and print it.\n",
        "name=\"prathamesh\"\n",
        "print(name)"
      ],
      "metadata": {
        "colab": {
          "base_uri": "https://localhost:8080/"
        },
        "id": "wtc_s39hPKpl",
        "outputId": "c300e1fb-9b72-47d0-f0f4-726b255125f0"
      },
      "execution_count": null,
      "outputs": [
        {
          "output_type": "stream",
          "name": "stdout",
          "text": [
            "prathamesh\n"
          ]
        }
      ]
    },
    {
      "cell_type": "code",
      "source": [
        "# Q.2 Write a code to find the length of the string \"Hello World\"\n",
        "name = \"Hello World\"\n",
        "len(name)"
      ],
      "metadata": {
        "colab": {
          "base_uri": "https://localhost:8080/"
        },
        "id": "DaZlefy_PozT",
        "outputId": "979c4995-c57e-4a68-8f2d-a3aaf9c72605"
      },
      "execution_count": null,
      "outputs": [
        {
          "output_type": "execute_result",
          "data": {
            "text/plain": [
              "11"
            ]
          },
          "metadata": {},
          "execution_count": 4
        }
      ]
    },
    {
      "cell_type": "code",
      "source": [
        "# Q.3- Write a code to slice the first 3 characters from the string \"Python Programming\"\n",
        "name = \"Python Programming\"\n",
        "name[0:3]"
      ],
      "metadata": {
        "colab": {
          "base_uri": "https://localhost:8080/",
          "height": 36
        },
        "id": "Je53qZjrQKYj",
        "outputId": "d57b5a43-8d4e-4fe2-e94a-c533ba34fcbf"
      },
      "execution_count": null,
      "outputs": [
        {
          "output_type": "execute_result",
          "data": {
            "text/plain": [
              "'Pyt'"
            ],
            "application/vnd.google.colaboratory.intrinsic+json": {
              "type": "string"
            }
          },
          "metadata": {},
          "execution_count": 10
        }
      ]
    },
    {
      "cell_type": "code",
      "source": [
        "# Q.4 - Write a code to convert the string \"hello\" to uppercase\n",
        "name =\"hello\"\n",
        "name.upper()\n"
      ],
      "metadata": {
        "colab": {
          "base_uri": "https://localhost:8080/",
          "height": 36
        },
        "id": "Ckki-lvxRgI8",
        "outputId": "dbf5ac09-8049-4bee-bd98-092e40e5a11a"
      },
      "execution_count": null,
      "outputs": [
        {
          "output_type": "execute_result",
          "data": {
            "text/plain": [
              "'HELLO'"
            ],
            "application/vnd.google.colaboratory.intrinsic+json": {
              "type": "string"
            }
          },
          "metadata": {},
          "execution_count": 16
        }
      ]
    },
    {
      "cell_type": "code",
      "source": [
        "# Q.5 - Write a code to replace the word \"apple\" with \"orange\" in the string \"I like apple\"\n",
        "name =\"I like apple\"\n",
        "name\n",
        "name.replace(\"apple\",\"orange\")"
      ],
      "metadata": {
        "colab": {
          "base_uri": "https://localhost:8080/",
          "height": 36
        },
        "id": "Epwvn9PTSHSG",
        "outputId": "43270064-55a1-4930-e8f0-8f1ecd5c42be"
      },
      "execution_count": null,
      "outputs": [
        {
          "output_type": "execute_result",
          "data": {
            "text/plain": [
              "'I like orange'"
            ],
            "application/vnd.google.colaboratory.intrinsic+json": {
              "type": "string"
            }
          },
          "metadata": {},
          "execution_count": 22
        }
      ]
    },
    {
      "cell_type": "code",
      "source": [
        "# Q.6 - Write a code to create a list with numbers 1 to 5 and print it\n",
        "List = [1,2,3,4,5,]\n",
        "print(List)"
      ],
      "metadata": {
        "colab": {
          "base_uri": "https://localhost:8080/"
        },
        "id": "xewR2gK4S8zR",
        "outputId": "083f2f16-5eab-4678-ae85-74782b739c82"
      },
      "execution_count": null,
      "outputs": [
        {
          "output_type": "stream",
          "name": "stdout",
          "text": [
            "[1, 2, 3, 4, 5]\n"
          ]
        }
      ]
    },
    {
      "cell_type": "code",
      "source": [
        "# Q.7 - Write a code to append the number 10 to the list [1, 2, 3, 4].\n",
        "List =[1,2,3,4]\n",
        "List.append(100)\n",
        "print(List)"
      ],
      "metadata": {
        "colab": {
          "base_uri": "https://localhost:8080/"
        },
        "id": "OJBZKvebTe51",
        "outputId": "352f4c24-653a-4166-d079-5d4860761bfe"
      },
      "execution_count": null,
      "outputs": [
        {
          "output_type": "stream",
          "name": "stdout",
          "text": [
            "[1, 2, 3, 4, 100]\n"
          ]
        }
      ]
    },
    {
      "cell_type": "code",
      "source": [
        "# Q.8 - Write a code to remove the number 3 from the list [1, 2, 3, 4, 5]\n",
        "List = [1, 2, 3, 4, 5]\n",
        "List.remove(5)\n",
        "print(List)\n"
      ],
      "metadata": {
        "colab": {
          "base_uri": "https://localhost:8080/"
        },
        "id": "89L1G5AFVMfF",
        "outputId": "9c1552db-10fd-4c43-bf78-13ada9aeffcf"
      },
      "execution_count": null,
      "outputs": [
        {
          "output_type": "stream",
          "name": "stdout",
          "text": [
            "[1, 2, 3, 4]\n"
          ]
        }
      ]
    },
    {
      "cell_type": "code",
      "source": [
        "# Q.9-Write a code to access the second element in the list ['a', 'b', 'c', 'd'].\n",
        "List = ['a', 'b', 'c', 'd']\n",
        "List [1]"
      ],
      "metadata": {
        "colab": {
          "base_uri": "https://localhost:8080/",
          "height": 36
        },
        "id": "t4YYB2cxVhKY",
        "outputId": "7cad6b79-521b-4a4f-eb24-8e07d490dc8e"
      },
      "execution_count": null,
      "outputs": [
        {
          "output_type": "execute_result",
          "data": {
            "text/plain": [
              "'b'"
            ],
            "application/vnd.google.colaboratory.intrinsic+json": {
              "type": "string"
            }
          },
          "metadata": {},
          "execution_count": 41
        }
      ]
    },
    {
      "cell_type": "code",
      "source": [
        "# Q.10 - Write a code to reverse the list [10, 20, 30, 40, 50].\n",
        "List = [10, 20, 30, 40, 50]\n",
        "List\n",
        "List.reverse()\n",
        "print(List)"
      ],
      "metadata": {
        "colab": {
          "base_uri": "https://localhost:8080/"
        },
        "id": "ITfoWJNlWMqn",
        "outputId": "ab8c2d65-6004-46e8-93df-60ee3131c268"
      },
      "execution_count": null,
      "outputs": [
        {
          "output_type": "stream",
          "name": "stdout",
          "text": [
            "[50, 40, 30, 20, 10]\n"
          ]
        }
      ]
    },
    {
      "cell_type": "code",
      "source": [
        "# Q.11 - Write a code to create a tuple with the elements 100, 200, 300 and print it.\n",
        "Tuple =(100,200,300)\n",
        "print(Tuple)"
      ],
      "metadata": {
        "id": "JCwwC2qzZQrX",
        "colab": {
          "base_uri": "https://localhost:8080/"
        },
        "outputId": "5942b13e-f3d4-48c4-d83a-195c152b1c2c"
      },
      "execution_count": null,
      "outputs": [
        {
          "output_type": "stream",
          "name": "stdout",
          "text": [
            "(100, 200, 300)\n"
          ]
        }
      ]
    },
    {
      "cell_type": "code",
      "source": [
        "# Q.12 -  Write a code to access the second-to-last element of the tuple ('red', 'green', 'blue', 'yellow').\n",
        "my_tuple = ('red', 'green', 'blue', 'yellow')\n",
        "my_tuple[-2]\n"
      ],
      "metadata": {
        "colab": {
          "base_uri": "https://localhost:8080/",
          "height": 36
        },
        "id": "WL8J66fInSeu",
        "outputId": "f1122ccb-a240-442b-9044-90ecc6e2b941"
      },
      "execution_count": null,
      "outputs": [
        {
          "output_type": "execute_result",
          "data": {
            "text/plain": [
              "'blue'"
            ],
            "application/vnd.google.colaboratory.intrinsic+json": {
              "type": "string"
            }
          },
          "metadata": {},
          "execution_count": 7
        }
      ]
    },
    {
      "cell_type": "code",
      "source": [
        "# Q.13 - Write a code to find the minimum number in the tuple (10, 20, 5, 15).\n",
        "my_tuple = (10, 20, 5, 15)\n",
        "my_tuple=min(my_tuple)\n",
        "print(\"minimum value of my_tuple is : \",my_tuple)\n",
        "\n"
      ],
      "metadata": {
        "colab": {
          "base_uri": "https://localhost:8080/"
        },
        "id": "x_AthdIwn2Z8",
        "outputId": "d774596d-61eb-4a04-af82-d24dcd156f68"
      },
      "execution_count": null,
      "outputs": [
        {
          "output_type": "stream",
          "name": "stdout",
          "text": [
            "minimum value of my_tuple is :  5\n"
          ]
        }
      ]
    },
    {
      "cell_type": "code",
      "source": [
        "# Q.14  -Write a code to find the index of the element \"cat\" in the tuple ('dog', 'cat', 'rabbit').\n",
        "my_tuple = ('dog', 'cat', 'rabbit')\n",
        "my_tuple.index(\"cat\")"
      ],
      "metadata": {
        "colab": {
          "base_uri": "https://localhost:8080/"
        },
        "id": "FVaq2mB4pKZF",
        "outputId": "a983638d-d27a-482d-b54c-aa09b938d77d"
      },
      "execution_count": null,
      "outputs": [
        {
          "output_type": "execute_result",
          "data": {
            "text/plain": [
              "1"
            ]
          },
          "metadata": {},
          "execution_count": 17
        }
      ]
    },
    {
      "cell_type": "code",
      "source": [
        "# Q.15 Write a code to create a tuple containing three different fruits and check if \"kiwi\" is in it.\n",
        "my_tuple=(\"Apple\",\"Banana\",\"kiwi\")\n",
        "if \"kiwi\" in my_tuple:\n",
        "    print(\"Kiwi is present in tuple\")\n",
        "else:\n",
        "    print(\"Kiwi is not present in tuple\")"
      ],
      "metadata": {
        "colab": {
          "base_uri": "https://localhost:8080/"
        },
        "id": "yOL_H55XpquC",
        "outputId": "9fc0db94-05eb-4dd8-9f22-f9a39e00770e"
      },
      "execution_count": null,
      "outputs": [
        {
          "output_type": "stream",
          "name": "stdout",
          "text": [
            "Kiwi is present in tuple\n"
          ]
        }
      ]
    },
    {
      "cell_type": "code",
      "source": [
        "# Q.16 - Write a code to create a set with the elements 'a', 'b', 'c' and print it.\n",
        "my_set = {'a', 'b', 'c'}\n",
        "print(\"Set:\", my_set)"
      ],
      "metadata": {
        "id": "JTNVQ8rjrzr3",
        "colab": {
          "base_uri": "https://localhost:8080/"
        },
        "outputId": "64727dab-b247-4993-9f9b-c69b5bce2c10"
      },
      "execution_count": null,
      "outputs": [
        {
          "output_type": "stream",
          "name": "stdout",
          "text": [
            "Set: {'b', 'c', 'a'}\n"
          ]
        }
      ]
    },
    {
      "cell_type": "code",
      "source": [
        "# Q.17 -  Write a code to clear all elements from the set {1, 2, 3, 4, 5}.\n",
        "my_set = {1, 2, 3, 4, 5}\n",
        "my_set.clear()\n",
        "my_set\n"
      ],
      "metadata": {
        "colab": {
          "base_uri": "https://localhost:8080/"
        },
        "id": "7j6HnIdruaVz",
        "outputId": "1d885cbb-f15a-4e20-deaa-9d833a927a35"
      },
      "execution_count": null,
      "outputs": [
        {
          "output_type": "execute_result",
          "data": {
            "text/plain": [
              "set()"
            ]
          },
          "metadata": {},
          "execution_count": 47
        }
      ]
    },
    {
      "cell_type": "code",
      "source": [
        "# Q.18 -  Write a code to remove the element 4 from the set {1, 2, 3, 4}\n",
        "my_set =  {1, 2, 3, 4}\n",
        "my_set.remove(4)\n",
        "my_set"
      ],
      "metadata": {
        "colab": {
          "base_uri": "https://localhost:8080/"
        },
        "id": "PG_IsBO5u23U",
        "outputId": "35b19d00-cdff-4824-ec7a-e27d4474d48a"
      },
      "execution_count": null,
      "outputs": [
        {
          "output_type": "execute_result",
          "data": {
            "text/plain": [
              "{1, 2, 3}"
            ]
          },
          "metadata": {},
          "execution_count": 50
        }
      ]
    },
    {
      "cell_type": "code",
      "source": [
        "# Q.19 - Write a code to find the union of two sets {1, 2, 3} and {3, 4, 5}.\n",
        "S1 ={1, 2, 3}\n",
        "S2 ={3, 4, 5}\n",
        "print(\"Union :-\",S1|S2)"
      ],
      "metadata": {
        "colab": {
          "base_uri": "https://localhost:8080/"
        },
        "id": "D8WEw3w2vOCU",
        "outputId": "ba9ece27-fcb3-4882-c450-84a9bd6f70b4"
      },
      "execution_count": null,
      "outputs": [
        {
          "output_type": "stream",
          "name": "stdout",
          "text": [
            "Union :- {1, 2, 3, 4, 5}\n"
          ]
        }
      ]
    },
    {
      "cell_type": "code",
      "source": [
        "# Q.20 - Write a code to find the intersection of two sets {1, 2, 3} and {2, 3, 4}.\n",
        "S1 =  {1, 2, 3}\n",
        "S2 =  {2, 3, 4}\n",
        "print(\"intersection :- \",S1 & S2)"
      ],
      "metadata": {
        "colab": {
          "base_uri": "https://localhost:8080/"
        },
        "id": "cgXatEdev9yx",
        "outputId": "6153f47c-4d3e-4dc0-fc69-e269599d44e5"
      },
      "execution_count": null,
      "outputs": [
        {
          "output_type": "stream",
          "name": "stdout",
          "text": [
            "intersection :-  {2, 3}\n"
          ]
        }
      ]
    },
    {
      "cell_type": "code",
      "source": [
        "# Q.21 - Write a code to create a dictionary with the keys \"name\", \"age\", and \"city\", and print it.\n",
        "my_dict = {\"name\" : \"prathamesh\", \"age\": 20, \"city\": \"ahilyanagar\"}\n",
        "print(my_dict)"
      ],
      "metadata": {
        "colab": {
          "base_uri": "https://localhost:8080/"
        },
        "id": "sEPKd-_hG-ec",
        "outputId": "4e7d8e4b-0d1c-41ae-fc60-80a0acf089ba"
      },
      "execution_count": null,
      "outputs": [
        {
          "output_type": "stream",
          "name": "stdout",
          "text": [
            "{'name': 'prathamesh', 'age': 20, 'city': 'ahilyanagar'}\n"
          ]
        }
      ]
    },
    {
      "cell_type": "code",
      "source": [
        "# Q.22 - Write a code to add a new key-value pair \"country\": \"USA\" to the dictionary {'name': 'John', 'age': 25}.\n",
        "dictionary = {'name': 'John', 'age': 25}\n",
        "print(\"Orignal dict\",dictionary)\n",
        "\n",
        "dictionary[\"country\"]=\"USA\"\n",
        "print(\"new dict : \", dictionary)\n",
        "\n"
      ],
      "metadata": {
        "colab": {
          "base_uri": "https://localhost:8080/"
        },
        "id": "3RPaQE2JHErt",
        "outputId": "3a92b536-7384-484e-96e7-b5ee361aa341"
      },
      "execution_count": null,
      "outputs": [
        {
          "output_type": "stream",
          "name": "stdout",
          "text": [
            "Orignal dict {'name': 'John', 'age': 25}\n",
            "new dict :  {'name': 'John', 'age': 25, 'country': 'USA'}\n"
          ]
        }
      ]
    },
    {
      "cell_type": "code",
      "source": [
        "# Q.23 -  Write a code to access the value associated with the key \"name\" in the dictionary {'name': 'Alice', 'age': 30}.\n",
        "my_dict ={'name': 'Alice', 'age': 30}\n",
        "print(my_dict[\"name\"])\n",
        "\n"
      ],
      "metadata": {
        "colab": {
          "base_uri": "https://localhost:8080/"
        },
        "id": "xtXN1iSnTwqI",
        "outputId": "15b6ae14-126b-41e6-e43b-0e479828466e"
      },
      "execution_count": null,
      "outputs": [
        {
          "output_type": "stream",
          "name": "stdout",
          "text": [
            "Alice\n"
          ]
        }
      ]
    },
    {
      "cell_type": "code",
      "source": [
        "# Q.24 -  Write a code to remove the key \"age\" from the dictionary {'name': 'Bob', 'age': 22, 'city': 'New York'}\n",
        "my_dict = {'name': 'Bob', 'age': 22, 'city': 'New York'}\n",
        "print(\"original dictionary : \",my_dict)\n",
        "\n",
        "my_dict.pop(\"age\")\n",
        "print(\"new dictionary : \",my_dict)\n",
        "\n"
      ],
      "metadata": {
        "colab": {
          "base_uri": "https://localhost:8080/"
        },
        "id": "xCR65mBcUSni",
        "outputId": "52b85f11-1759-434e-c74c-7f56f53375a7"
      },
      "execution_count": null,
      "outputs": [
        {
          "output_type": "stream",
          "name": "stdout",
          "text": [
            "original dictionary :  {'name': 'Bob', 'age': 22, 'city': 'New York'}\n",
            "new dictionary :  {'name': 'Bob', 'city': 'New York'}\n"
          ]
        }
      ]
    },
    {
      "cell_type": "code",
      "source": [
        "#Q.25 - Write a code to check if the key \"city\" exists in the dictionary {'name': 'Alice', 'city': 'Paris'}."
      ],
      "metadata": {
        "id": "Tc34e_8LVoCk"
      },
      "execution_count": null,
      "outputs": []
    },
    {
      "cell_type": "code",
      "source": [
        "my_dict ={'name': 'Alice', 'city': 'Paris'}\n",
        "if \"city\" in my_dict :\n",
        "  print(\" city exists in dictionary\")\n",
        "else:\n",
        "  print(\"city not exists in dictionary\")"
      ],
      "metadata": {
        "colab": {
          "base_uri": "https://localhost:8080/"
        },
        "id": "PEauzDXKVif_",
        "outputId": "4c2ff1d7-a76a-40e3-e6e1-0dd7cc88fd44"
      },
      "execution_count": null,
      "outputs": [
        {
          "output_type": "stream",
          "name": "stdout",
          "text": [
            "city not exists in dictionary\n"
          ]
        }
      ]
    },
    {
      "cell_type": "code",
      "source": [
        "# Q.26 - Write a code to create a list, a tuple, and a dictionary, and print them all.\n",
        "my_list =[1,2,3,4,5]\n",
        "my_tuple =(1,2,3,4,5)\n",
        "my_dict = {'a': 'b','c':'d'}\n",
        "print(my_list)\n",
        "print(my_tuple)\n",
        "print(my_dict)"
      ],
      "metadata": {
        "colab": {
          "base_uri": "https://localhost:8080/"
        },
        "id": "VvWLTZwQX3Pz",
        "outputId": "9dd8f3b6-2fd0-4593-a4dd-a0d7605b67cd"
      },
      "execution_count": null,
      "outputs": [
        {
          "output_type": "stream",
          "name": "stdout",
          "text": [
            "[1, 2, 3, 4, 5]\n",
            "(1, 2, 3, 4, 5)\n",
            "{'a': 'b', 'c': 'd'}\n"
          ]
        }
      ]
    },
    {
      "cell_type": "code",
      "source": [
        "# Q.27 - Write a code to create a list of 5 random numbers between 1 and 100, sort it in ascending order, and print the result.(replaced)\n",
        "import random\n",
        "my_list =random.sample (range(0,101),5)\n",
        "my_list.sort()\n",
        "print(my_list)"
      ],
      "metadata": {
        "colab": {
          "base_uri": "https://localhost:8080/"
        },
        "id": "JLk9MDsIX6wi",
        "outputId": "cd264581-a33d-4f82-8a82-716fea563540"
      },
      "execution_count": null,
      "outputs": [
        {
          "output_type": "stream",
          "name": "stdout",
          "text": [
            "[10, 31, 42, 53, 60]\n"
          ]
        }
      ]
    },
    {
      "cell_type": "code",
      "source": [
        "# Q.28 - Write a code to create a list with strings and print the element at the third index\n",
        "my_list = [\"pratham\",\"data\",\"python\",\"pwskills\"]\n",
        "print(my_list[3])"
      ],
      "metadata": {
        "colab": {
          "base_uri": "https://localhost:8080/"
        },
        "id": "JgbWn2aoZ9Mc",
        "outputId": "701505b4-eab4-4903-8a87-0cd54fdd1527"
      },
      "execution_count": null,
      "outputs": [
        {
          "output_type": "stream",
          "name": "stdout",
          "text": [
            "pwskills\n"
          ]
        }
      ]
    },
    {
      "cell_type": "code",
      "source": [
        "# Q.29 - Write a code to combine two dictionaries into one and print the result.\n",
        "my_dict1 = {'a': \"A\", 'b': \"B\"}\n",
        "my_dict2 = {'c':'C', 'd': \"D\"}\n",
        "mix_dict = my_dict1 | my_dict2\n",
        "print(mix_dict)\n"
      ],
      "metadata": {
        "colab": {
          "base_uri": "https://localhost:8080/"
        },
        "id": "MEPllNhMbF75",
        "outputId": "aeaba22d-6e53-48a5-9a6b-4ea5ac19c65f"
      },
      "execution_count": null,
      "outputs": [
        {
          "output_type": "stream",
          "name": "stdout",
          "text": [
            "{'a': 'A', 'b': 'B', 'c': 'C', 'd': 'D'}\n"
          ]
        }
      ]
    },
    {
      "cell_type": "code",
      "source": [
        "# Q.30 - Write a code to convert a list of strings into a set\n",
        "my_list = [\"pratham\",\"data\",\"python\",\"pwskills\"]\n",
        "print(type(my_list))\n",
        "my_list = set(my_list)\n",
        "print(\"now the list is set \",type(my_list))"
      ],
      "metadata": {
        "colab": {
          "base_uri": "https://localhost:8080/"
        },
        "id": "-Z-hHTYbcMBp",
        "outputId": "2ddb7743-0181-430d-f010-87350c00896d"
      },
      "execution_count": null,
      "outputs": [
        {
          "output_type": "stream",
          "name": "stdout",
          "text": [
            "<class 'list'>\n",
            "now the list is set  <class 'set'>\n"
          ]
        }
      ]
    }
  ]
}